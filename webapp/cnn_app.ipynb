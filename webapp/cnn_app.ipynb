{
 "cells": [
  {
   "cell_type": "code",
   "execution_count": 22,
   "metadata": {},
   "outputs": [],
   "source": [
    "from __future__ import division, print_function\n",
    "import sys\n",
    "import os\n",
    "import glob\n",
    "import re\n",
    "import numpy as np\n",
    "from astropy.io import fits\n",
    "from PIL import Image\n",
    "from sklearn.metrics import accuracy_score\n",
    "from flask import jsonify \n",
    "from io import BytesIO\n",
    "import base64\n",
    "import tensorflow as tf\n",
    "import io\n",
    "\n",
    "# Keras\n",
    "from keras.applications.imagenet_utils import preprocess_input, decode_predictions\n",
    "from keras.models import load_model\n",
    "from keras.preprocessing import image\n",
    "\n",
    "# Flask utils\n",
    "from flask import Flask, redirect, url_for, request, render_template\n",
    "from werkzeug.utils import secure_filename \n",
    "from gevent.pywsgi import WSGIServer"
   ]
  },
  {
   "cell_type": "code",
   "execution_count": 23,
   "metadata": {},
   "outputs": [],
   "source": [
    "# Define a flask app\n",
    "app = Flask(__name__)"
   ]
  },
  {
   "cell_type": "code",
   "execution_count": 24,
   "metadata": {},
   "outputs": [],
   "source": [
    "# Model saved with Keras model.save()\n",
    "MODEL_PATH = \"/Users/wendymendoza/Desktop/mycnn/CNNsingle.h5\""
   ]
  },
  {
   "cell_type": "code",
   "execution_count": 25,
   "metadata": {},
   "outputs": [
    {
     "name": "stdout",
     "output_type": "stream",
     "text": [
      "Model loaded. Start serving...\n"
     ]
    }
   ],
   "source": [
    "# Load your trained model\n",
    "model = load_model(MODEL_PATH)\n",
    "model.make_predict_function()          # Necessary\n",
    "print('Model loaded. Start serving...')"
   ]
  },
  {
   "cell_type": "code",
   "execution_count": 26,
   "metadata": {},
   "outputs": [],
   "source": [
    "@app.route('/', methods=['GET'])\n",
    "def index():\n",
    "    # Main page\n",
    "    return render_template('index.html')"
   ]
  },
  {
   "cell_type": "code",
   "execution_count": 27,
   "metadata": {},
   "outputs": [],
   "source": [
    "@app.route('/predict', methods=['POST'])\n",
    "def prediction_data():\n",
    "    def resize_for_display(img, display_width=20):\n",
    "        aspect_ratio = img.width / img.height\n",
    "        display_height = int(display_width / aspect_ratio)\n",
    "        display_img = img.resize((display_width, display_height), Image.BICUBIC)\n",
    "        return np.asarray(display_img)\n",
    "\n",
    "    images = []\n",
    "    file = request.files['file']\n",
    "    file_type = file.filename.split('.')[-1]\n",
    "    if file_type == 'npy':\n",
    "        data = np.load(file)\n",
    "        print(\"Loaded .npy file, data shape:\", data.shape, \"data type:\", data.dtype)\n",
    "        num_images = data.shape[0]\n",
    "        random_index = np.random.randint(0, num_images)\n",
    "        data = data[random_index]\n",
    "\n",
    "        # Create a PIL image from the numpy array for display purposes\n",
    "        img = Image.fromarray((data * 255).astype(np.uint8))\n",
    "        display_data = resize_for_display(img)\n",
    "\n",
    "    elif file_type == 'fits':\n",
    "        hdul = fits.open(file)\n",
    "        data = hdul[0].data\n",
    "        hdul.close()\n",
    "\n",
    "        # Create a PIL image from the fits data for display purposes\n",
    "        print(\"Creating image from data with shape:\", data.shape)\n",
    "        img = Image.fromarray((data * 255).astype(np.uint8))\n",
    "        display_data = resize_for_display(img)\n",
    "\n",
    "    elif file_type.lower() in ['jpg', 'jpeg', 'png']:\n",
    "        img = Image.open(file)\n",
    "\n",
    "        # For display purposes, resize the image while maintaining aspect ratio\n",
    "        display_data = resize_for_display(img)\n",
    "\n",
    "        # For the model prediction, resize the image to the required size\n",
    "        model_img = img.resize((21, 21), Image.ANTIALIAS)\n",
    "        data = np.asarray(model_img)\n",
    "    else:\n",
    "        return 'Error: Unsupported file type'\n",
    "    \n",
    "    original_image = display_data.copy()\n",
    "    # preprocess data here, if necessary\n",
    "    \n",
    "    if len(data.shape) == 2:\n",
    "        # Add a channel dimension to the data if it doesn't have one\n",
    "        data = np.expand_dims(data, axis=-1)\n",
    "    display_data = data.copy()\n",
    "    data = data.astype(np.uint8)\n",
    "    data = np.reshape(data, (-1, 21, 21, 2))\n",
    "    data = data / 255.0  # normalize pixel values to [0, 1]\n",
    "    print(\"Final data shape:\", data.shape, \"data type:\", data.dtype)\n",
    "    prediction = model.predict(data)\n",
    "    # postprocess prediction here, if necessary\n",
    "    prediction = np.argmax(prediction, axis=-1)\n",
    "\n",
    "    if len(display_data.shape) == 4 and display_data.shape[-1] == 3:\n",
    "        image = display_data[0, :, :, :]  # First RGB image\n",
    "        \n",
    "    elif len(display_data.shape) == 3:\n",
    "        if display_data.shape[-1] == 3:\n",
    "            image = display_data[:, :, :]\n",
    "        else:\n",
    "                image = display_data[:, :, 0]\n",
    "    else:\n",
    "        image = display_data[:, :, 0]\n",
    "\n",
    "    # Convert the NumPy array to a PIL image and then to a base64 encoded string\n",
    "    normalized_image = image / np.max(image)\n",
    "    pil_image = Image.fromarray((normalized_image * 255).astype(np.uint8))\n",
    "   \n",
    "    buffer = BytesIO()\n",
    "    pil_image.save(buffer, format=\"PNG\")\n",
    "    image_base64 = base64.b64encode(buffer.getvalue()).decode('utf-8')\n",
    "    \n",
    "    # Append the base64-encoded image string to the list of images\n",
    "    images.append(image_base64) \n",
    "\n",
    "    #calculate predicition transient and non transient\n",
    "    prediction = model.predict(data)\n",
    "    prediction = np.argmax(prediction, axis=-1)\n",
    "    prediction = np.where(prediction > 0.5, 1, 0)\n",
    "    y_true = np.ones_like(prediction) #create an array of one with the same shape as precition\n",
    "    accuracy = accuracy_score(y_true=y_true, y_pred=prediction)\n",
    "    prediction = prediction.tolist()  # convert to list\n",
    "    for i, p in enumerate(prediction):\n",
    "        label = \"transient\" if p == 1 else \"non-transient\"\n",
    "        print(f\"File {i}: Prediction: {p}, Label: {label}\")\n",
    "\n",
    "    \n",
    "    # return the prediction result and accuracy as a string\n",
    "    return jsonify({\"prediction\": prediction, \"accuracy\": accuracy, \"image_base64_list\": images, \"label\": label})\n",
    "    "
   ]
  },
  {
   "cell_type": "markdown",
   "metadata": {},
   "source": []
  },
  {
   "cell_type": "code",
   "execution_count": 29,
   "metadata": {},
   "outputs": [
    {
     "name": "stdout",
     "output_type": "stream",
     "text": [
      " * Serving Flask app '__main__'\n",
      " * Debug mode: off\n"
     ]
    },
    {
     "name": "stderr",
     "output_type": "stream",
     "text": [
      "\u001b[31m\u001b[1mWARNING: This is a development server. Do not use it in a production deployment. Use a production WSGI server instead.\u001b[0m\n",
      " * Running on http://127.0.0.1:5000\n",
      "\u001b[33mPress CTRL+C to quit\u001b[0m\n"
     ]
    }
   ],
   "source": [
    "if __name__ == '__main__':\n",
    "    app.run(debug=False)"
   ]
  },
  {
   "cell_type": "markdown",
   "metadata": {},
   "source": [
    "print(\"Creating image from data with shape:\", data.shape)"
   ]
  },
  {
   "cell_type": "markdown",
   "metadata": {},
   "source": [
    "print('Number of images in the loaded data:', data.shape[0])"
   ]
  },
  {
   "cell_type": "markdown",
   "metadata": {},
   "source": [
    "print(\"Before resizing for display:\")\n",
    "print(np.asarray(img))\n"
   ]
  },
  {
   "cell_type": "markdown",
   "metadata": {},
   "source": [
    "print(\"After resizing for display:\")\n",
    "print(display_data)\n"
   ]
  },
  {
   "cell_type": "markdown",
   "metadata": {},
   "source": [
    "print(\"Before normalization:\")\n",
    "print(data)\n"
   ]
  },
  {
   "cell_type": "markdown",
   "metadata": {},
   "source": [
    "print(\"After normalization:\")\n",
    "print(data)\n"
   ]
  }
 ],
 "metadata": {
  "kernelspec": {
   "display_name": "Python 3 (ipykernel)",
   "language": "python",
   "name": "python3"
  },
  "language_info": {
   "codemirror_mode": {
    "name": "ipython",
    "version": 3
   },
   "file_extension": ".py",
   "mimetype": "text/x-python",
   "name": "python",
   "nbconvert_exporter": "python",
   "pygments_lexer": "ipython3",
   "version": "3.10.5"
  },
  "vscode": {
   "interpreter": {
    "hash": "aee8b7b246df8f9039afb4144a1f6fd8d2ca17a180786b69acc140d282b71a49"
   }
  }
 },
 "nbformat": 4,
 "nbformat_minor": 2
}
